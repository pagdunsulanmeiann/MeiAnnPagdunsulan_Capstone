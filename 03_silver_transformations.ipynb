{
 "cells": [
  {
   "cell_type": "code",
   "execution_count": 0,
   "metadata": {
    "application/vnd.databricks.v1+cell": {
     "cellMetadata": {
      "byteLimit": 2048000,
      "rowLimit": 10000
     },
     "inputWidgets": {},
     "nuid": "7b3a26db-5f7b-4950-85d1-9a35a8d2083a",
     "showTitle": false,
     "tableResultSettingsMap": {},
     "title": ""
    }
   },
   "outputs": [],
   "source": [
    "from pyspark.sql import functions as F\n",
    "from pyspark.sql.functions import col, array_join\n",
    "\n",
    "# -----------------------------\n",
    "# 1. Join with diagnosis_ref\n",
    "# -----------------------------\n",
    "claims_with_desc = claims.join(\n",
    "    diagnosis_ref,\n",
    "    claims[\"DiagnosisCode\"] == diagnosis_ref[\"Code\"],\n",
    "    how=\"left\"\n",
    ")\n",
    "\n",
    "# -----------------------------\n",
    "# 2. Join with members and providers for enrichment\n",
    "# -----------------------------\n",
    "claims_joined = claims_with_desc \\\n",
    "    .join(members.select(\"MemberID\", \"FirstName\"), on=\"MemberID\", how=\"left\") \\\n",
    "    .join(providers.select(\"ProviderID\", \"Name\"), on=\"ProviderID\", how=\"left\")\n",
    "\n",
    "# -----------------------------\n",
    "# 3. Aggregate back to one row per claim\n",
    "# -----------------------------\n",
    "claims_final = claims_joined.groupBy(\n",
    "    \"ClaimID\", \"MemberID\", \"ProviderID\", \"Amount\",\n",
    "    \"ProcedureCode\", \"ClaimDate\", \"Status\", \"Remarks\"\n",
    ").agg(\n",
    "    F.first(\"FirstName\").alias(\"MemberName\"),\n",
    "    F.first(\"Name\").alias(\"ProviderName\"),\n",
    "    F.collect_list(\"Description\").alias(\"DiagnosisDescriptions\")\n",
    ")\n",
    "\n",
    "# -----------------------------\n",
    "# 4. Convert list to comma-separated string\n",
    "# -----------------------------\n",
    "claims_final = claims_final.withColumn(\n",
    "    \"DiagnosisDescriptions\",\n",
    "    array_join(col(\"DiagnosisDescriptions\"), \",\")\n",
    ")\n",
    "\n",
    "# -----------------------------\n",
    "# 5. Fill nulls\n",
    "# -----------------------------\n",
    "claims_final = claims_final.fillna({\n",
    "    \"MemberName\": \"UNKNOWN\",\n",
    "    \"ProviderName\": \"UNKNOWN\",\n",
    "    \"DiagnosisDescriptions\": \"UNKNOWN\"\n",
    "})\n",
    "\n",
    "# -----------------------------\n",
    "# 6. Save Silver Table\n",
    "# -----------------------------\n",
    "claims_final.write.format(\"delta\") \\\n",
    "    .mode(\"overwrite\") \\\n",
    "    .option(\"overwriteSchema\", \"true\") \\\n",
    "    .saveAsTable(\"default.silver_claims_enriched\")\n"
   ]
  }
 ],
 "metadata": {
  "application/vnd.databricks.v1+notebook": {
   "computePreferences": null,
   "dashboards": [],
   "environmentMetadata": {
    "base_environment": "",
    "environment_version": "3"
   },
   "inputWidgetPreferences": null,
   "language": "python",
   "notebookMetadata": {
    "pythonIndentUnit": 4
   },
   "notebookName": "03_silver_transformations",
   "widgets": {}
  },
  "language_info": {
   "name": "python"
  }
 },
 "nbformat": 4,
 "nbformat_minor": 0
}

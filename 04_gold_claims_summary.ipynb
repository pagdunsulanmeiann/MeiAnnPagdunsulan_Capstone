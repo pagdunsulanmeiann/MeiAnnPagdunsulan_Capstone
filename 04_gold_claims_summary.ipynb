{
 "cells": [
  {
   "cell_type": "code",
   "execution_count": 0,
   "metadata": {
    "application/vnd.databricks.v1+cell": {
     "cellMetadata": {
      "byteLimit": 2048000,
      "rowLimit": 10000
     },
     "inputWidgets": {},
     "nuid": "8bfd7530-d3f1-4fe4-82e7-8741853c0466",
     "showTitle": false,
     "tableResultSettingsMap": {},
     "title": ""
    }
   },
   "outputs": [],
   "source": [
    "from pyspark.sql import SparkSession\n",
    "from pyspark.sql import functions as F\n",
    "\n",
    "# -----------------------------\n",
    "# 1. Initialize Spark session\n",
    "# -----------------------------\n",
    "spark = SparkSession.builder.appName(\"GoldLayerClaims\").getOrCreate()\n",
    "\n",
    "# -----------------------------\n",
    "# 2. Load silver_claims_enriched\n",
    "# -----------------------------\n",
    "silver_claims = spark.table(\"meiproject.default.silver_claims_enriched\")\n",
    "\n",
    "# -----------------------------\n",
    "# 3. Aggregation by Member\n",
    "# -----------------------------\n",
    "gold_by_member = silver_claims.groupBy(\"MemberID\", \"MemberName\").agg(\n",
    "    F.count(\"ClaimID\").alias(\"TotalClaims\"),\n",
    "    F.sum(\"Amount\").alias(\"TotalAmount\"),\n",
    "    F.sum(F.when(F.col(\"Status\") == \"Approved\", 1).otherwise(0)).alias(\"ApprovedClaims\"),\n",
    "    F.sum(F.when(F.col(\"Status\") == \"Rejected\", 1).otherwise(0)).alias(\"RejectedClaims\"),\n",
    "    F.sum(F.when(F.col(\"Status\") == \"Pending\", 1).otherwise(0)).alias(\"PendingClaims\"),\n",
    "    F.collect_list(\"DiagnosisDescriptions\").alias(\"AllDiagnosisDescriptions\")\n",
    ")\n",
    "\n",
    "# -----------------------------\n",
    "# 4. Aggregation by Provider\n",
    "# -----------------------------\n",
    "gold_by_provider = silver_claims.groupBy(\"ProviderID\", \"ProviderName\").agg(\n",
    "    F.count(\"ClaimID\").alias(\"TotalClaims\"),\n",
    "    F.sum(\"Amount\").alias(\"TotalAmount\"),\n",
    "    F.sum(F.when(F.col(\"Status\") == \"Approved\", 1).otherwise(0)).alias(\"ApprovedClaims\"),\n",
    "    F.sum(F.when(F.col(\"Status\") == \"Rejected\", 1).otherwise(0)).alias(\"RejectedClaims\"),\n",
    "    F.sum(F.when(F.col(\"Status\") == \"Pending\", 1).otherwise(0)).alias(\"PendingClaims\"),\n",
    "    F.collect_list(\"DiagnosisDescriptions\").alias(\"AllDiagnosisDescriptions\")\n",
    ")\n",
    "\n",
    "# -----------------------------\n",
    "# 5. Save Gold Tables\n",
    "# -----------------------------\n",
    "gold_by_member.write.mode(\"overwrite\").saveAsTable(\"meiproject.default.gold_claims_by_member\")\n",
    "gold_by_provider.write.mode(\"overwrite\").saveAsTable(\"meiproject.default.gold_claims_by_provider\")\n"
   ]
  }
 ],
 "metadata": {
  "application/vnd.databricks.v1+notebook": {
   "computePreferences": null,
   "dashboards": [],
   "environmentMetadata": {
    "base_environment": "",
    "environment_version": "3"
   },
   "inputWidgetPreferences": null,
   "language": "python",
   "notebookMetadata": {
    "mostRecentlyExecutedCommandWithImplicitDF": {
     "commandId": -1,
     "dataframes": [
      "_sqldf"
     ]
    },
    "pythonIndentUnit": 4
   },
   "notebookName": "04_gold_claims_summary",
   "widgets": {}
  },
  "language_info": {
   "name": "python"
  }
 },
 "nbformat": 4,
 "nbformat_minor": 0
}

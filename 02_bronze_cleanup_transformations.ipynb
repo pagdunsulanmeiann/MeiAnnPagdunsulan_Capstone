{
 "cells": [
  {
   "cell_type": "code",
   "execution_count": 0,
   "metadata": {
    "application/vnd.databricks.v1+cell": {
     "cellMetadata": {
      "byteLimit": 2048000,
      "rowLimit": 10000
     },
     "inputWidgets": {},
     "nuid": "382d464d-e195-4e31-88dd-10ceb61b66b7",
     "showTitle": false,
     "tableResultSettingsMap": {},
     "title": ""
    }
   },
   "outputs": [],
   "source": [
    "# Notebook: bronze_cleanup_transformations\n",
    "\n",
    "from pyspark.sql.functions import col, trim\n",
    "\n",
    "# -----------------------------\n",
    "# 1. Claims Batch\n",
    "# -----------------------------\n",
    "claims_batch = spark.table(\"default.bronze_claims_batch\")\n",
    "\n",
    "claims_batch_clean = (claims_batch\n",
    "    .dropna(subset=[\"ClaimID\", \"MemberID\", \"ProviderID\"])\n",
    "    .dropDuplicates([\"ClaimID\", \"MemberID\", \"ProviderID\"])\n",
    ")\n",
    "\n",
    "claims_batch_clean.write.format(\"delta\") \\\n",
    "    .mode(\"overwrite\") \\\n",
    "    .option(\"overwriteSchema\", \"true\") \\\n",
    "    .saveAsTable(\"default.bronze_claims_batch_clean\")\n",
    "\n",
    "# -----------------------------\n",
    "# 2. Claims Stream\n",
    "# -----------------------------\n",
    "claims_stream = spark.table(\"default.bronze_claims_stream\")\n",
    "\n",
    "claims_stream_clean = (claims_stream\n",
    "    .dropna(subset=[\"ClaimID\", \"MemberID\", \"ProviderID\"])\n",
    "    .dropDuplicates([\"ClaimID\", \"MemberID\", \"ProviderID\"])\n",
    ")\n",
    "\n",
    "claims_stream_clean.write.format(\"delta\") \\\n",
    "    .mode(\"overwrite\") \\\n",
    "    .option(\"overwriteSchema\", \"true\") \\\n",
    "    .saveAsTable(\"default.bronze_claims_stream_clean\")\n",
    "\n",
    "# -----------------------------\n",
    "# 3. Diagnosis Reference\n",
    "# -----------------------------\n",
    "diagnosis = spark.table(\"default.bronze_diagnosis_ref\")\n",
    "\n",
    "diagnosis_clean = diagnosis.dropDuplicates([\"Code\"])\n",
    "\n",
    "diagnosis_clean.write.format(\"delta\") \\\n",
    "    .mode(\"overwrite\") \\\n",
    "    .option(\"overwriteSchema\", \"true\") \\\n",
    "    .saveAsTable(\"default.bronze_diagnosis_ref_clean\")\n",
    "\n",
    "# -----------------------------\n",
    "# 4. Members\n",
    "# -----------------------------\n",
    "members = spark.table(\"default.bronze_members\")\n",
    "\n",
    "members_clean = (members\n",
    "    .dropna(subset=[\"MemberID\"])\n",
    "    .dropDuplicates([\"MemberID\"])\n",
    ")\n",
    "\n",
    "members_clean.write.format(\"delta\") \\\n",
    "    .mode(\"overwrite\") \\\n",
    "    .option(\"overwriteSchema\", \"true\") \\\n",
    "    .saveAsTable(\"default.bronze_members_clean\")\n",
    "\n",
    "# -----------------------------\n",
    "# 5. Providers\n",
    "# -----------------------------\n",
    "providers = spark.table(\"default.bronze_providers\")\n",
    "\n",
    "providers_clean = (providers\n",
    "    .dropna(subset=[\"ProviderID\"])\n",
    "    .dropDuplicates([\"ProviderID\"])\n",
    ")\n",
    "\n",
    "providers_clean.write.format(\"delta\") \\\n",
    "    .mode(\"overwrite\") \\\n",
    "    .option(\"overwriteSchema\", \"true\") \\\n",
    "    .saveAsTable(\"default.bronze_providers_clean\")\n"
   ]
  }
 ],
 "metadata": {
  "application/vnd.databricks.v1+notebook": {
   "computePreferences": null,
   "dashboards": [],
   "environmentMetadata": {
    "base_environment": "",
    "environment_version": "3"
   },
   "inputWidgetPreferences": null,
   "language": "python",
   "notebookMetadata": {
    "mostRecentlyExecutedCommandWithImplicitDF": {
     "commandId": -1,
     "dataframes": [
      "_sqldf"
     ]
    },
    "pythonIndentUnit": 4
   },
   "notebookName": "02_bronze_cleanup_transformations",
   "widgets": {}
  },
  "language_info": {
   "name": "python"
  }
 },
 "nbformat": 4,
 "nbformat_minor": 0
}
